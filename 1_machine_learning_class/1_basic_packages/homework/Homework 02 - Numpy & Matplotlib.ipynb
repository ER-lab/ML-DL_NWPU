{
 "cells": [
  {
   "cell_type": "markdown",
   "metadata": {
    "collapsed": true,
    "pycharm": {
     "name": "#%% md\n"
    }
   },
   "source": [
    "## 1. 数值计算 numpy"
   ]
  },
  {
   "cell_type": "code",
   "execution_count": 2,
   "outputs": [],
   "source": [
    "import numpy as np"
   ],
   "metadata": {
    "collapsed": false,
    "pycharm": {
     "name": "#%%\n"
    }
   }
  },
  {
   "cell_type": "markdown",
   "source": [
    "### 1.1 对于一个存在在数组，如何添加一个用0填充的边界?\n",
    "例如对一个二维矩阵\n",
    "```\n",
    "10, 34, 54, 23\n",
    "31, 87, 53, 68\n",
    "98, 49, 25, 11\n",
    "84, 32, 67, 88\n",
    "```\n",
    "\n",
    "变换成\n",
    "```\n",
    " 0,  0,  0,  0,  0, 0\n",
    " 0, 10, 34, 54, 23, 0\n",
    " 0, 31, 87, 53, 68, 0\n",
    " 0, 98, 49, 25, 11, 0\n",
    " 0, 84, 32, 67, 88, 0\n",
    " 0,  0,  0,  0,  0, 0\n",
    "```"
   ],
   "metadata": {
    "collapsed": false,
    "pycharm": {
     "name": "#%% md\n"
    }
   }
  },
  {
   "cell_type": "code",
   "execution_count": 5,
   "outputs": [
    {
     "data": {
      "text/plain": "array([[ 0,  0,  0,  0,  0,  0],\n       [ 0, 10, 34, 54, 23,  0],\n       [ 0, 31, 87, 53, 68,  0],\n       [ 0, 98, 49, 25, 11,  0],\n       [ 0, 84, 32, 67, 88,  0],\n       [ 0,  0,  0,  0,  0,  0]])"
     },
     "execution_count": 5,
     "metadata": {},
     "output_type": "execute_result"
    }
   ],
   "source": [
    "array1 = np.asarray(\n",
    "    [\n",
    "        [10, 34, 54, 23],\n",
    "        [31, 87, 53, 68],\n",
    "        [98, 49, 25, 11],\n",
    "        [84, 32, 67, 88],\n",
    "    ],\n",
    "    dtype=np.int64\n",
    ")\n",
    "array1_result = np.pad(array=array1, pad_width=((1, 1), (1, 1)), mode=\"constant\")\n",
    "array1_result"
   ],
   "metadata": {
    "collapsed": false,
    "pycharm": {
     "name": "#%%\n"
    }
   }
  },
  {
   "cell_type": "markdown",
   "source": [
    "### 1.2 创建一个 5x5的矩阵，并设置值1,2,3,4落在其对角线下方位置"
   ],
   "metadata": {
    "collapsed": false,
    "pycharm": {
     "name": "#%% md\n"
    }
   }
  },
  {
   "cell_type": "code",
   "execution_count": 7,
   "outputs": [
    {
     "data": {
      "text/plain": "array([[0, 0, 0, 0, 0],\n       [1, 0, 0, 0, 0],\n       [0, 2, 0, 0, 0],\n       [0, 0, 3, 0, 0],\n       [0, 0, 0, 4, 0]])"
     },
     "execution_count": 7,
     "metadata": {},
     "output_type": "execute_result"
    }
   ],
   "source": [
    "array2 = np.diag([1,2,3,4], k=-1)\n",
    "array2"
   ],
   "metadata": {
    "collapsed": false,
    "pycharm": {
     "name": "#%%\n"
    }
   }
  },
  {
   "cell_type": "markdown",
   "source": [
    "### 1.3 创建一个8x8的矩阵，并且设置成国际象棋棋盘样式（黑可以用0, 白可以用1）"
   ],
   "metadata": {
    "collapsed": false,
    "pycharm": {
     "name": "#%% md\n"
    }
   }
  },
  {
   "cell_type": "code",
   "execution_count": 14,
   "outputs": [
    {
     "data": {
      "text/plain": "array([[1, 0, 1, 0, 1, 0, 1, 0],\n       [0, 1, 0, 1, 0, 1, 0, 1],\n       [1, 0, 1, 0, 1, 0, 1, 0],\n       [0, 1, 0, 1, 0, 1, 0, 1],\n       [1, 0, 1, 0, 1, 0, 1, 0],\n       [0, 1, 0, 1, 0, 1, 0, 1],\n       [1, 0, 1, 0, 1, 0, 1, 0],\n       [0, 1, 0, 1, 0, 1, 0, 1]])"
     },
     "execution_count": 14,
     "metadata": {},
     "output_type": "execute_result"
    }
   ],
   "source": [
    "array3_1 = np.ones((8,8), dtype=int)\n",
    "array3_1[1::2, ::2]=0 #stop为空意味着自动结束,  1::2为行第二行开始到自动结束，并且步长为2，::2为列从零开始到自动结束步长为2\n",
    "array3_1[0::2, 1::2]=0\n",
    "array3_1"
   ],
   "metadata": {
    "collapsed": false,
    "pycharm": {
     "name": "#%%\n"
    }
   }
  },
  {
   "cell_type": "code",
   "execution_count": 15,
   "outputs": [
    {
     "data": {
      "text/plain": "array([[0, 1, 0, 1, 0, 1, 0, 1],\n       [1, 0, 1, 0, 1, 0, 1, 0],\n       [0, 1, 0, 1, 0, 1, 0, 1],\n       [1, 0, 1, 0, 1, 0, 1, 0],\n       [0, 1, 0, 1, 0, 1, 0, 1],\n       [1, 0, 1, 0, 1, 0, 1, 0],\n       [0, 1, 0, 1, 0, 1, 0, 1],\n       [1, 0, 1, 0, 1, 0, 1, 0]])"
     },
     "execution_count": 15,
     "metadata": {},
     "output_type": "execute_result"
    }
   ],
   "source": [
    "array3_2 = np.fromfunction(lambda i, j: (i+j) % 2, (8, 8), dtype=int)\n",
    "array3_2"
   ],
   "metadata": {
    "collapsed": false,
    "pycharm": {
     "name": "#%%\n"
    }
   }
  },
  {
   "cell_type": "markdown",
   "source": [
    "### 1.4 求解线性方程组\n",
    "\n",
    "给定一个方程组，如何求出其的方程解。有多种方法，分析各种方法的优缺点（最简单的方式是消元方）。\n",
    "\n",
    "例如\n",
    "```\n",
    "3x + 4y + 2z = 10\n",
    "5x + 3y + 4z = 14\n",
    "8x + 2y + 7z = 20\n",
    "```\n",
    "\n",
    "编程写出求解的程序"
   ],
   "metadata": {
    "collapsed": false
   }
  },
  {
   "cell_type": "code",
   "execution_count": 21,
   "outputs": [
    {
     "data": {
      "text/plain": "array([ 6.00000000e+00, -1.42108547e-14, -4.00000000e+00])"
     },
     "execution_count": 21,
     "metadata": {},
     "output_type": "execute_result"
    }
   ],
   "source": [
    "X = np.array([[3,4,2],[5,3,4],[8,2,7]])\n",
    "Y = np.array([10,14,20])\n",
    "\n",
    "X_inv = np.linalg.inv(X)\n",
    "xyz = np.dot(X_inv,Y)\n",
    "xyz"
   ],
   "metadata": {
    "collapsed": false,
    "pycharm": {
     "name": "#%%\n"
    }
   }
  },
  {
   "cell_type": "markdown",
   "source": [
    "### 1.5 翻转一个数组（第一个元素变成最后一个）"
   ],
   "metadata": {
    "collapsed": false,
    "pycharm": {
     "name": "#%% md\n"
    }
   }
  },
  {
   "cell_type": "code",
   "execution_count": 24,
   "outputs": [
    {
     "data": {
      "text/plain": "array([[6, 3, 1],\n       [5, 4, 2]])"
     },
     "execution_count": 24,
     "metadata": {},
     "output_type": "execute_result"
    }
   ],
   "source": [
    "array5 = np.array([[2, 4, 5], [1, 3, 6]])\n",
    "array5_result = np.flip(array5)\n",
    "array5_result"
   ],
   "metadata": {
    "collapsed": false,
    "pycharm": {
     "name": "#%%\n"
    }
   }
  },
  {
   "cell_type": "markdown",
   "source": [
    "### 1.6 产生一个10x10大小的随机数组，并且找出最大和最小值"
   ],
   "metadata": {
    "collapsed": false,
    "pycharm": {
     "name": "#%% md\n"
    }
   }
  },
  {
   "cell_type": "code",
   "execution_count": 26,
   "outputs": [
    {
     "name": "stdout",
     "output_type": "stream",
     "text": [
      "[[0.29968784 0.86803588 0.50602481 0.81802628 0.56570882 0.66013919\n",
      "  0.51608012 0.32744126 0.13581222 0.53058959]\n",
      " [0.98136848 0.67503253 0.63953131 0.9415989  0.36851749 0.43267297\n",
      "  0.30948833 0.36229853 0.88885055 0.52318173]\n",
      " [0.45451337 0.77712521 0.02603787 0.2415205  0.43613416 0.3306485\n",
      "  0.46044131 0.3911288  0.77922306 0.90195894]\n",
      " [0.31969037 0.56524745 0.57785242 0.23832603 0.44308838 0.45898623\n",
      "  0.98402088 0.19050868 0.88881381 0.52260874]\n",
      " [0.16555983 0.75502629 0.71532649 0.70378979 0.91908666 0.98659859\n",
      "  0.30225365 0.00310413 0.8415757  0.73866222]\n",
      " [0.28434039 0.83878935 0.90141288 0.46123376 0.24109338 0.43784038\n",
      "  0.35864383 0.58929652 0.20846838 0.79257267]\n",
      " [0.8651786  0.22453087 0.07538026 0.56484134 0.21988135 0.22849398\n",
      "  0.68928589 0.32683818 0.44890242 0.77972048]\n",
      " [0.92324556 0.33996685 0.83041717 0.5261565  0.57495704 0.34901896\n",
      "  0.58591633 0.64260567 0.42659945 0.12470644]\n",
      " [0.07860169 0.17249356 0.93678201 0.36993203 0.48750771 0.31481294\n",
      "  0.48605746 0.80728416 0.6548819  0.61601121]\n",
      " [0.22046938 0.70487632 0.48180091 0.75529259 0.80338959 0.41773361\n",
      "  0.73244669 0.9640643  0.70839698 0.93352106]]\n",
      "0.986598592306889\n",
      "0.003104133331202741\n"
     ]
    }
   ],
   "source": [
    "array6 = np.random.random(size=(10, 10))\n",
    "print(array6)\n",
    "print(np.max(array6))\n",
    "print(np.min(array6))"
   ],
   "metadata": {
    "collapsed": false,
    "pycharm": {
     "name": "#%%\n"
    }
   }
  },
  {
   "cell_type": "markdown",
   "source": [
    "## 2. Matplotlib"
   ],
   "metadata": {
    "collapsed": false,
    "pycharm": {
     "name": "#%% md\n"
    }
   }
  },
  {
   "cell_type": "code",
   "execution_count": 38,
   "outputs": [],
   "source": [
    "import matplotlib.pyplot as plt\n",
    "import math"
   ],
   "metadata": {
    "collapsed": false,
    "pycharm": {
     "name": "#%%\n"
    }
   }
  },
  {
   "cell_type": "markdown",
   "source": [
    "### 2.1 画出一个二次函数，同时画出梯形法求积分时的各个梯形"
   ],
   "metadata": {
    "collapsed": false,
    "pycharm": {
     "name": "#%% md\n"
    }
   }
  },
  {
   "cell_type": "code",
   "execution_count": 37,
   "outputs": [
    {
     "name": "stdout",
     "output_type": "stream",
     "text": [
      "[ 0  1  2  3  4  5  6  7  8  9 10 11 12 13 14 15 16 17 18 19] [  0   4  10  18  28  40  54  70  88 108 130 154 180 208 238 270 304 340\n",
      " 378 418]\n"
     ]
    },
    {
     "data": {
      "text/plain": "<Figure size 432x288 with 1 Axes>",
      "image/png": "[encoded data removed]"
     },
     "metadata": {
      "needs_background": "light"
     },
     "output_type": "display_data"
    }
   ],
   "source": [
    "simplefunc = lambda x: x**2 + 3*x\n",
    "X = np.arange(0, 20, 1)\n",
    "Y = simplefunc(X)\n",
    "\n",
    "plt.figure(figsize=(6, 4))\n",
    "plt.plot(X, Y, color=\"black\")\n",
    "for x, y in zip(X, Y):\n",
    "    plt.plot([x, x], [0, y], color=\"black\")\n",
    "plt.show()"
   ],
   "metadata": {
    "collapsed": false,
    "pycharm": {
     "name": "#%%\n"
    }
   }
  },
  {
   "cell_type": "markdown",
   "source": [
    "### 2.2 绘制函数 $f(x) = sin^2(x - 2) e^{-x^2}$\n",
    "\n",
    "需要画出标题，x，y轴。x的取值范围是[0, 2]"
   ],
   "metadata": {
    "collapsed": false,
    "pycharm": {
     "name": "#%% md\n"
    }
   }
  },
  {
   "cell_type": "code",
   "execution_count": 40,
   "outputs": [
    {
     "data": {
      "text/plain": "<Figure size 432x288 with 1 Axes>",
      "image/png": "[encoded data removed]"
     },
     "metadata": {
      "needs_background": "light"
     },
     "output_type": "display_data"
    }
   ],
   "source": [
    "simplefunc = lambda x: (np.sin(x-2)**2) * (math.e**(-x**2))\n",
    "X = np.arange(0, 2, 0.1)\n",
    "Y = simplefunc(X)\n",
    "\n",
    "plt.figure(figsize=(6, 4))\n",
    "plt.plot(X, Y, color=\"black\")\n",
    "plt.title(label=\"$f(x) = sin^2(x - 2) e^{-x^2}$\")\n",
    "plt.show()"
   ],
   "metadata": {
    "collapsed": false,
    "pycharm": {
     "name": "#%%\n"
    }
   }
  },
  {
   "cell_type": "markdown",
   "source": [
    "### 2.3 模拟一个醉汉在二维空间上的随机漫步。"
   ],
   "metadata": {
    "collapsed": false,
    "pycharm": {
     "name": "#%% md\n"
    }
   }
  },
  {
   "cell_type": "code",
   "execution_count": 42,
   "outputs": [
    {
     "data": {
      "text/plain": "<Figure size 432x288 with 1 Axes>",
      "image/png": "[encoded data removed]"
     },
     "metadata": {
      "needs_background": "light"
     },
     "output_type": "display_data"
    }
   ],
   "source": [
    "coord_x = np.random.randint(low=0, high=300, size=100)\n",
    "coord_y = np.random.randint(low=0, high=300, size=100)\n",
    "\n",
    "plt.figure(figsize=(6, 4))\n",
    "plt.scatter(coord_x, coord_y)\n",
    "plt.show()"
   ],
   "metadata": {
    "collapsed": false,
    "pycharm": {
     "name": "#%%\n"
    }
   }
  },
  {
   "cell_type": "code",
   "execution_count": null,
   "outputs": [],
   "source": [],
   "metadata": {
    "collapsed": false,
    "pycharm": {
     "name": "#%%\n"
    }
   }
  }
 ],
 "metadata": {
  "kernelspec": {
   "display_name": "Python 3",
   "language": "python",
   "name": "python3"
  },
  "language_info": {
   "codemirror_mode": {
    "name": "ipython",
    "version": 2
   },
   "file_extension": ".py",
   "mimetype": "text/x-python",
   "name": "python",
   "nbconvert_exporter": "python",
   "pygments_lexer": "ipython2",
   "version": "2.7.6"
  }
 },
 "nbformat": 4,
 "nbformat_minor": 0
}