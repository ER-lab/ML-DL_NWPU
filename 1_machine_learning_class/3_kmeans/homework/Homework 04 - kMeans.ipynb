{
 "cells": [
  {
   "cell_type": "markdown",
   "metadata": {
    "collapsed": true,
    "pycharm": {
     "name": "#%% md\n"
    }
   },
   "source": [
    "# Homework 04 - kMeans\n",
    "\n",
    "自己编写kMeans方法，并使用下面的数据来做聚类\n",
    "\n",
    "![data](data.png)\n",
    "\n",
    "数据文件是：`dataset_circles.csv`，其中\n",
    "\n",
    "* 数据的第一列是`x`坐标，\n",
    "* 第二列是`y`坐标，\n",
    "* 第三列是样本点的类别。\n",
    "\n",
    "\n",
    "\n",
    "**要求：**\n",
    "\n",
    "1. 使用**自己编写的聚类方法**对数据进行聚类\n",
    "2. 将数据可视化出来，自己分析数据的特点，找到一种方法将数据进行某种变换，在变换后的空间上使用自己编写的kMeans方法对数据进行聚类处理\n",
    "3. 自己查找其他的聚类方法，尝试使用一下，看看效果如何。（最好能自己编写）\n"
   ]
  },
  {
   "cell_type": "markdown",
   "source": [
    "## 自定义kMeans算法\n",
    "\n",
    "### 1. 方法\n",
    "\n",
    "由于具有出色的速度和良好的可扩展性，K-Means聚类算法最经典的聚类方法。***k-Means算法是一个重复移动类中心点（重心，centroids）的过程***:\n",
    "* 移动中心点到其包含成员的平均位置;\n",
    "* 然后重新划分其内部成员。\n",
    "\n",
    "`k`是算法中的超参数，表示类的数量；k-Means可以自动分配样本到不同的类，但是不能决定究竟要分几个类。`k`必须是一个比训练集样本数小的正整数。有时，类的数量是由问题内容指定的。例如，一个鞋厂有三种新款式，它想知道每种新款式都有哪些潜在客户，于是它调研客户，然后从数据里找出三类。也有一些问题没有指定聚类的数量，最优的聚类数量是不确定的。\n",
    "\n",
    "k-Means的参数是类的重心位置和其内部观测值的位置。与广义线性模型和决策树类似，k-Means参数的最优解也是以代价函数最小化为目标。k-Means代价函数公式如下：\n",
    "$$\n",
    "J = \\sum_{k=1}^{K} \\sum_{i \\in C_k} | x_i - u_k|^2\n",
    "$$\n",
    "\n",
    "$u_k$是第$k$个类的重心位置，定义为：\n",
    "$$\n",
    "u_k = \\frac{1}{|C_k|} \\sum_{i \\in C_k} x_i\n",
    "$$\n",
    "\n",
    "\n",
    "成本函数是各个类畸变程度（distortions）之和。每个类的畸变程度等于该类重心与其内部成员位置距离的平方和。若类内部的成员彼此间越紧凑则类的畸变程度越小，反之，若类内部的成员彼此间越分散则类的畸变程度越大。\n",
    "\n",
    "### 2.算法步骤：\n",
    "\n",
    "求解成本函数最小化的参数就是一个重复配置每个类包含的观测值，并不断移动类重心的过程。\n",
    "\n",
    "输入：$T=\\{ x_1, x_2, ..., x_N\\}$，其中$x_i \\in R_n$，i=1,2...N\n",
    "\n",
    "输出：聚类集合$C_k$, 聚类中心$u_k$, 其中k=1,2,...K\n",
    "\n",
    "1. 初始化类的重心$u_k$，可以随机选择样本作为聚类中心\n",
    "2. 每次迭代的时候，把所有样本分配到离它们最近的类，即更新聚类集合$C_k$\n",
    "3. 然后把重心移动到该类全部成员位置的平均值那里，即更新$u_k$\n",
    "4. 若达到最大迭代步数，或两次迭代差小于设定的阈值则算法结束，否则重复步骤2\n",
    "\n",
    "Reference: https://www.biaodianfu.com/k-means.html"
   ],
   "metadata": {
    "collapsed": false,
    "pycharm": {
     "name": "#%% md\n"
    }
   }
  },
  {
   "cell_type": "code",
   "execution_count": null,
   "outputs": [],
   "source": [
    "import numpy as np\n",
    "import matplotlib.pyplot as plt\n",
    "from scipy.spatial.distance import cdist"
   ],
   "metadata": {
    "collapsed": false,
    "pycharm": {
     "name": "#%%\n"
    }
   }
  },
  {
   "cell_type": "markdown",
   "source": [
    "### Sample data"
   ],
   "metadata": {
    "collapsed": false,
    "pycharm": {
     "name": "#%% md\n"
    }
   }
  },
  {
   "cell_type": "code",
   "execution_count": null,
   "outputs": [],
   "source": [],
   "metadata": {
    "collapsed": false,
    "pycharm": {
     "name": "#%%\n"
    }
   }
  },
  {
   "cell_type": "markdown",
   "source": [
    "### kMeans class"
   ],
   "metadata": {
    "collapsed": false,
    "pycharm": {
     "name": "#%% md\n"
    }
   }
  },
  {
   "cell_type": "code",
   "execution_count": null,
   "outputs": [],
   "source": [],
   "metadata": {
    "collapsed": false,
    "pycharm": {
     "name": "#%%\n"
    }
   }
  }
 ],
 "metadata": {
  "kernelspec": {
   "display_name": "Python 3",
   "language": "python",
   "name": "python3"
  },
  "language_info": {
   "codemirror_mode": {
    "name": "ipython",
    "version": 2
   },
   "file_extension": ".py",
   "mimetype": "text/x-python",
   "name": "python",
   "nbconvert_exporter": "python",
   "pygments_lexer": "ipython2",
   "version": "2.7.6"
  }
 },
 "nbformat": 4,
 "nbformat_minor": 0
}